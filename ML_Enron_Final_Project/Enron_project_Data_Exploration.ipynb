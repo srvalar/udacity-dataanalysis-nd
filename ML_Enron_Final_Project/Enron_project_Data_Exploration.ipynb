{
 "cells": [
  {
   "cell_type": "markdown",
   "metadata": {},
   "source": [
    "# Udacity Enron ML Project\n",
    "\n",
    "## Overview\n",
    "I will address the 6 questions mentioned in the project summary in this document, and also follow these steps in my analysis:\n",
    "1. Data Exploration\n",
    "2. Feature Selection\n",
    "3. Algorithm Selection\n",
    "4. Model Validation"
   ]
  },
  {
   "cell_type": "markdown",
   "metadata": {},
   "source": [
    "### Section 1:  Data Exploration\n",
    "\n",
    "#### Questions addressed:\n",
    "#### Q1. Summarize for us the goal of this project and how machine learning is useful in trying to accomplish it. As part of your answer, give some background on the dataset and how it can be used to answer the project question. Were there any outliers in the data when you got it, and how did you handle those?"
   ]
  },
  {
   "cell_type": "markdown",
   "metadata": {},
   "source": [
    "**Data set background**\n",
    "* There are 146 rows in the data, corresponding to 146 Enron employees\n",
    "* The data set has 21 features of interest\n",
    "* Of the 146 employees, 18 are POIs"
   ]
  },
  {
   "cell_type": "code",
   "execution_count": 3,
   "metadata": {
    "collapsed": true
   },
   "outputs": [],
   "source": [
    "import pickle\n",
    "import sys\n",
    "import matplotlib.pyplot as plt"
   ]
  },
  {
   "cell_type": "code",
   "execution_count": 4,
   "metadata": {
    "collapsed": true
   },
   "outputs": [],
   "source": [
    "# Importing the dataset\n",
    "data_set = pickle.load(open(\"final_project_dataset.pkl\", \"r\") )"
   ]
  },
  {
   "cell_type": "code",
   "execution_count": 5,
   "metadata": {
    "collapsed": false
   },
   "outputs": [
    {
     "data": {
      "text/plain": [
       "146"
      ]
     },
     "execution_count": 5,
     "metadata": {},
     "output_type": "execute_result"
    }
   ],
   "source": [
    "# number of data points or Enron personnel\n",
    "len(data_set.keys())"
   ]
  },
  {
   "cell_type": "markdown",
   "metadata": {},
   "source": [
    "The dataset has 21 features or variables"
   ]
  },
  {
   "cell_type": "code",
   "execution_count": 6,
   "metadata": {
    "collapsed": false
   },
   "outputs": [
    {
     "name": "stdout",
     "output_type": "stream",
     "text": [
      "21\n"
     ]
    }
   ],
   "source": [
    "# number of features\n",
    "num_features = len(data_set[data_set.keys()[0]])\n",
    "\n",
    "print num_features"
   ]
  },
  {
   "cell_type": "markdown",
   "metadata": {},
   "source": [
    "It looks like there are 18 POIs in the data set"
   ]
  },
  {
   "cell_type": "code",
   "execution_count": 7,
   "metadata": {
    "collapsed": false
   },
   "outputs": [
    {
     "name": "stdout",
     "output_type": "stream",
     "text": [
      "18\n"
     ]
    }
   ],
   "source": [
    "# number of POIs\n",
    "num_poi = 0\n",
    "for i in data_set.values():\n",
    "    if i['poi'] == 1:\n",
    "        num_poi += 1\n",
    "print num_poi"
   ]
  },
  {
   "cell_type": "markdown",
   "metadata": {},
   "source": [
    "Here is a sampling of the features and values for one particular data point or person (Mark Metts)"
   ]
  },
  {
   "cell_type": "code",
   "execution_count": 8,
   "metadata": {
    "collapsed": false
   },
   "outputs": [
    {
     "name": "stdout",
     "output_type": "stream",
     "text": [
      "{'salary': 365788, 'to_messages': 807, 'deferral_payments': 'NaN', 'total_payments': 1061827, 'exercised_stock_options': 'NaN', 'bonus': 600000, 'restricted_stock': 585062, 'shared_receipt_with_poi': 702, 'restricted_stock_deferred': 'NaN', 'total_stock_value': 585062, 'expenses': 94299, 'loan_advances': 'NaN', 'from_messages': 29, 'other': 1740, 'from_this_person_to_poi': 1, 'poi': False, 'director_fees': 'NaN', 'deferred_income': 'NaN', 'long_term_incentive': 'NaN', 'email_address': 'mark.metts@enron.com', 'from_poi_to_this_person': 38}\n"
     ]
    }
   ],
   "source": [
    "features = data_set.values()\n",
    "print features[0]"
   ]
  },
  {
   "cell_type": "markdown",
   "metadata": {},
   "source": [
    "#### Missing Values and Outliers exploration"
   ]
  },
  {
   "cell_type": "markdown",
   "metadata": {},
   "source": [
    "I have used python Pandas and numpy below to practice my usage based on previous Data Analysis nanodegree courses."
   ]
  },
  {
   "cell_type": "code",
   "execution_count": 9,
   "metadata": {
    "collapsed": true
   },
   "outputs": [],
   "source": [
    "import pandas as pd\n",
    "import numpy as np"
   ]
  },
  {
   "cell_type": "markdown",
   "metadata": {},
   "source": [
    "Using 'orient = index' as the keys of the data dictionary (i.e. the employees) are to represented as rows and not columns in the resulting data frame."
   ]
  },
  {
   "cell_type": "code",
   "execution_count": 10,
   "metadata": {
    "collapsed": true
   },
   "outputs": [],
   "source": [
    "df = pd.DataFrame.from_dict(data_set, orient = 'index')"
   ]
  },
  {
   "cell_type": "markdown",
   "metadata": {},
   "source": [
    "Looking at 2 sample data points (rows), we see that the missing values are represented by NaNs"
   ]
  },
  {
   "cell_type": "code",
   "execution_count": 11,
   "metadata": {
    "collapsed": false
   },
   "outputs": [
    {
     "data": {
      "text/html": [
       "<div>\n",
       "<table border=\"1\" class=\"dataframe\">\n",
       "  <thead>\n",
       "    <tr style=\"text-align: right;\">\n",
       "      <th></th>\n",
       "      <th>salary</th>\n",
       "      <th>to_messages</th>\n",
       "      <th>deferral_payments</th>\n",
       "      <th>total_payments</th>\n",
       "      <th>exercised_stock_options</th>\n",
       "      <th>bonus</th>\n",
       "      <th>restricted_stock</th>\n",
       "      <th>shared_receipt_with_poi</th>\n",
       "      <th>restricted_stock_deferred</th>\n",
       "      <th>total_stock_value</th>\n",
       "      <th>...</th>\n",
       "      <th>loan_advances</th>\n",
       "      <th>from_messages</th>\n",
       "      <th>other</th>\n",
       "      <th>from_this_person_to_poi</th>\n",
       "      <th>poi</th>\n",
       "      <th>director_fees</th>\n",
       "      <th>deferred_income</th>\n",
       "      <th>long_term_incentive</th>\n",
       "      <th>email_address</th>\n",
       "      <th>from_poi_to_this_person</th>\n",
       "    </tr>\n",
       "  </thead>\n",
       "  <tbody>\n",
       "    <tr>\n",
       "      <th>ALLEN PHILLIP K</th>\n",
       "      <td>201955</td>\n",
       "      <td>2902</td>\n",
       "      <td>2869717</td>\n",
       "      <td>4484442</td>\n",
       "      <td>1729541</td>\n",
       "      <td>4175000</td>\n",
       "      <td>126027</td>\n",
       "      <td>1407</td>\n",
       "      <td>-126027</td>\n",
       "      <td>1729541</td>\n",
       "      <td>...</td>\n",
       "      <td>NaN</td>\n",
       "      <td>2195</td>\n",
       "      <td>152</td>\n",
       "      <td>65</td>\n",
       "      <td>False</td>\n",
       "      <td>NaN</td>\n",
       "      <td>-3081055</td>\n",
       "      <td>304805</td>\n",
       "      <td>phillip.allen@enron.com</td>\n",
       "      <td>47</td>\n",
       "    </tr>\n",
       "    <tr>\n",
       "      <th>BADUM JAMES P</th>\n",
       "      <td>NaN</td>\n",
       "      <td>NaN</td>\n",
       "      <td>178980</td>\n",
       "      <td>182466</td>\n",
       "      <td>257817</td>\n",
       "      <td>NaN</td>\n",
       "      <td>NaN</td>\n",
       "      <td>NaN</td>\n",
       "      <td>NaN</td>\n",
       "      <td>257817</td>\n",
       "      <td>...</td>\n",
       "      <td>NaN</td>\n",
       "      <td>NaN</td>\n",
       "      <td>NaN</td>\n",
       "      <td>NaN</td>\n",
       "      <td>False</td>\n",
       "      <td>NaN</td>\n",
       "      <td>NaN</td>\n",
       "      <td>NaN</td>\n",
       "      <td>NaN</td>\n",
       "      <td>NaN</td>\n",
       "    </tr>\n",
       "  </tbody>\n",
       "</table>\n",
       "<p>2 rows × 21 columns</p>\n",
       "</div>"
      ],
      "text/plain": [
       "                 salary to_messages deferral_payments total_payments  \\\n",
       "ALLEN PHILLIP K  201955        2902           2869717        4484442   \n",
       "BADUM JAMES P       NaN         NaN            178980         182466   \n",
       "\n",
       "                exercised_stock_options    bonus restricted_stock  \\\n",
       "ALLEN PHILLIP K                 1729541  4175000           126027   \n",
       "BADUM JAMES P                    257817      NaN              NaN   \n",
       "\n",
       "                shared_receipt_with_poi restricted_stock_deferred  \\\n",
       "ALLEN PHILLIP K                    1407                   -126027   \n",
       "BADUM JAMES P                       NaN                       NaN   \n",
       "\n",
       "                total_stock_value           ...           loan_advances  \\\n",
       "ALLEN PHILLIP K           1729541           ...                     NaN   \n",
       "BADUM JAMES P              257817           ...                     NaN   \n",
       "\n",
       "                from_messages other from_this_person_to_poi    poi  \\\n",
       "ALLEN PHILLIP K          2195   152                      65  False   \n",
       "BADUM JAMES P             NaN   NaN                     NaN  False   \n",
       "\n",
       "                director_fees deferred_income long_term_incentive  \\\n",
       "ALLEN PHILLIP K           NaN        -3081055              304805   \n",
       "BADUM JAMES P             NaN             NaN                 NaN   \n",
       "\n",
       "                           email_address from_poi_to_this_person  \n",
       "ALLEN PHILLIP K  phillip.allen@enron.com                      47  \n",
       "BADUM JAMES P                        NaN                     NaN  \n",
       "\n",
       "[2 rows x 21 columns]"
      ]
     },
     "execution_count": 11,
     "metadata": {},
     "output_type": "execute_result"
    }
   ],
   "source": [
    "df.head(2)"
   ]
  },
  {
   "cell_type": "markdown",
   "metadata": {},
   "source": [
    "If I try and get a summary/info about the data set, I see that the NaN values are not actually treated as NaN values because they are strings"
   ]
  },
  {
   "cell_type": "code",
   "execution_count": 12,
   "metadata": {
    "collapsed": false
   },
   "outputs": [
    {
     "name": "stdout",
     "output_type": "stream",
     "text": [
      "<class 'pandas.core.frame.DataFrame'>\n",
      "Index: 146 entries, ALLEN PHILLIP K to YEAP SOON\n",
      "Data columns (total 21 columns):\n",
      "salary                       146 non-null object\n",
      "to_messages                  146 non-null object\n",
      "deferral_payments            146 non-null object\n",
      "total_payments               146 non-null object\n",
      "exercised_stock_options      146 non-null object\n",
      "bonus                        146 non-null object\n",
      "restricted_stock             146 non-null object\n",
      "shared_receipt_with_poi      146 non-null object\n",
      "restricted_stock_deferred    146 non-null object\n",
      "total_stock_value            146 non-null object\n",
      "expenses                     146 non-null object\n",
      "loan_advances                146 non-null object\n",
      "from_messages                146 non-null object\n",
      "other                        146 non-null object\n",
      "from_this_person_to_poi      146 non-null object\n",
      "poi                          146 non-null bool\n",
      "director_fees                146 non-null object\n",
      "deferred_income              146 non-null object\n",
      "long_term_incentive          146 non-null object\n",
      "email_address                146 non-null object\n",
      "from_poi_to_this_person      146 non-null object\n",
      "dtypes: bool(1), object(20)\n",
      "memory usage: 24.1+ KB\n"
     ]
    }
   ],
   "source": [
    "df.info()"
   ]
  },
  {
   "cell_type": "markdown",
   "metadata": {},
   "source": [
    "I therefore need to convert them to a non-string value - either a 0 or nan value. Given that 0 values can mess with averages and other math calculations, I will prefer going with nan values."
   ]
  },
  {
   "cell_type": "code",
   "execution_count": 13,
   "metadata": {
    "collapsed": true
   },
   "outputs": [],
   "source": [
    "df = df.replace('NaN', np.nan)"
   ]
  },
  {
   "cell_type": "markdown",
   "metadata": {},
   "source": [
    "Now running an info function shows the actual missing values per feature."
   ]
  },
  {
   "cell_type": "code",
   "execution_count": 14,
   "metadata": {
    "collapsed": false
   },
   "outputs": [
    {
     "name": "stdout",
     "output_type": "stream",
     "text": [
      "<class 'pandas.core.frame.DataFrame'>\n",
      "Index: 146 entries, ALLEN PHILLIP K to YEAP SOON\n",
      "Data columns (total 21 columns):\n",
      "salary                       95 non-null float64\n",
      "to_messages                  86 non-null float64\n",
      "deferral_payments            39 non-null float64\n",
      "total_payments               125 non-null float64\n",
      "exercised_stock_options      102 non-null float64\n",
      "bonus                        82 non-null float64\n",
      "restricted_stock             110 non-null float64\n",
      "shared_receipt_with_poi      86 non-null float64\n",
      "restricted_stock_deferred    18 non-null float64\n",
      "total_stock_value            126 non-null float64\n",
      "expenses                     95 non-null float64\n",
      "loan_advances                4 non-null float64\n",
      "from_messages                86 non-null float64\n",
      "other                        93 non-null float64\n",
      "from_this_person_to_poi      86 non-null float64\n",
      "poi                          146 non-null bool\n",
      "director_fees                17 non-null float64\n",
      "deferred_income              49 non-null float64\n",
      "long_term_incentive          66 non-null float64\n",
      "email_address                111 non-null object\n",
      "from_poi_to_this_person      86 non-null float64\n",
      "dtypes: bool(1), float64(19), object(1)\n",
      "memory usage: 24.1+ KB\n"
     ]
    }
   ],
   "source": [
    "df.info()"
   ]
  },
  {
   "cell_type": "markdown",
   "metadata": {},
   "source": [
    "It looks like several variables have many values missing and it might make sense to exclude them from our analysis."
   ]
  },
  {
   "cell_type": "code",
   "execution_count": 15,
   "metadata": {
    "collapsed": false
   },
   "outputs": [
    {
     "data": {
      "text/plain": [
       "salary                       34.931507\n",
       "to_messages                  41.095890\n",
       "deferral_payments            73.287671\n",
       "total_payments               14.383562\n",
       "exercised_stock_options      30.136986\n",
       "bonus                        43.835616\n",
       "restricted_stock             24.657534\n",
       "shared_receipt_with_poi      41.095890\n",
       "restricted_stock_deferred    87.671233\n",
       "total_stock_value            13.698630\n",
       "expenses                     34.931507\n",
       "loan_advances                97.260274\n",
       "from_messages                41.095890\n",
       "other                        36.301370\n",
       "from_this_person_to_poi      41.095890\n",
       "poi                           0.000000\n",
       "director_fees                88.356164\n",
       "deferred_income              66.438356\n",
       "long_term_incentive          54.794521\n",
       "email_address                23.972603\n",
       "from_poi_to_this_person      41.095890\n",
       "dtype: float64"
      ]
     },
     "execution_count": 15,
     "metadata": {},
     "output_type": "execute_result"
    }
   ],
   "source": [
    "(df.isnull().sum() / len(df.index)) * 100"
   ]
  },
  {
   "cell_type": "markdown",
   "metadata": {},
   "source": [
    "Variables that can be excluded:\n",
    "* deferral_payments            73.287671\n",
    "* restricted_stock_deferred    87.671233\n",
    "* loan_advances                97.260274\n",
    "* director_fees                88.356164\n",
    "* deferred_income              66.438356\n",
    "* long_term_incentive          54.794521\n",
    "* email_address                23.972603"
   ]
  },
  {
   "cell_type": "markdown",
   "metadata": {},
   "source": [
    "#### Outliers Analysis"
   ]
  },
  {
   "cell_type": "markdown",
   "metadata": {},
   "source": [
    "I will now use the seaborn package as used in a previous nanodegree class, to plot the data points to spot outliers."
   ]
  },
  {
   "cell_type": "code",
   "execution_count": 16,
   "metadata": {
    "collapsed": true
   },
   "outputs": [],
   "source": [
    "import seaborn as sns\n",
    "%matplotlib inline"
   ]
  },
  {
   "cell_type": "code",
   "execution_count": 17,
   "metadata": {
    "collapsed": false
   },
   "outputs": [
    {
     "data": {
      "image/png": "[encoded data removed]",
      "text/plain": [
       "<matplotlib.figure.Figure at 0x117fef410>"
      ]
     },
     "metadata": {},
     "output_type": "display_data"
    }
   ],
   "source": [
    "sns.jointplot(x=\"salary\", y=\"bonus\", data=df, dropna=True)\n",
    "sns.plt.show()"
   ]
  },
  {
   "cell_type": "code",
   "execution_count": 18,
   "metadata": {
    "collapsed": false
   },
   "outputs": [
    {
     "data": {
      "text/plain": [
       "Index([u'TOTAL'], dtype='object')"
      ]
     },
     "execution_count": 18,
     "metadata": {},
     "output_type": "execute_result"
    }
   ],
   "source": [
    "df[df.salary > 1e7].index"
   ]
  },
  {
   "cell_type": "markdown",
   "metadata": {},
   "source": [
    "So there is a row with key value 'Total' that seems to be summing up all values for each feature, which explains the large value. This can easily be dropped as it is not useful to us."
   ]
  },
  {
   "cell_type": "code",
   "execution_count": 19,
   "metadata": {
    "collapsed": true
   },
   "outputs": [],
   "source": [
    "df = df.drop('TOTAL')"
   ]
  },
  {
   "cell_type": "markdown",
   "metadata": {},
   "source": [
    "Replotting:"
   ]
  },
  {
   "cell_type": "code",
   "execution_count": 20,
   "metadata": {
    "collapsed": false
   },
   "outputs": [
    {
     "data": {
      "image/png": "[encoded data removed]",
      "text/plain": [
       "<matplotlib.figure.Figure at 0x117d5a850>"
      ]
     },
     "metadata": {},
     "output_type": "display_data"
    }
   ],
   "source": [
    "sns.jointplot(x=\"salary\", y=\"bonus\", data=df, dropna=True)\n",
    "sns.plt.show()"
   ]
  },
  {
   "cell_type": "code",
   "execution_count": 21,
   "metadata": {
    "collapsed": false
   },
   "outputs": [
    {
     "data": {
      "text/plain": [
       "Index([u'FREVERT MARK A', u'LAY KENNETH L', u'SKILLING JEFFREY K'], dtype='object')"
      ]
     },
     "execution_count": 21,
     "metadata": {},
     "output_type": "execute_result"
    }
   ],
   "source": [
    "df[df.salary > 1e6].index"
   ]
  },
  {
   "cell_type": "code",
   "execution_count": 22,
   "metadata": {
    "collapsed": false
   },
   "outputs": [
    {
     "data": {
      "text/plain": [
       "Index([u'LAVORATO JOHN J', u'LAY KENNETH L'], dtype='object')"
      ]
     },
     "execution_count": 22,
     "metadata": {},
     "output_type": "execute_result"
    }
   ],
   "source": [
    "df[df.bonus > (0.6 * 1e7)].index"
   ]
  },
  {
   "cell_type": "markdown",
   "metadata": {},
   "source": [
    "**A few takeaways from the outlier analysis:**\n",
    "* There are 4 employees who have very high bonus or salary values compared to the rest of the population. \n",
    "* However these are definitely going to be POIs or important employees given that the names Kenneth Lay and Jeffrey Skilling are among them. So we keep them in the data set."
   ]
  },
  {
   "cell_type": "markdown",
   "metadata": {},
   "source": [
    "Plotting salary/bonus by dividing among POI and non-POI employees: We can see that 2 out of the 4 outliers are definitely POIs"
   ]
  },
  {
   "cell_type": "code",
   "execution_count": 23,
   "metadata": {
    "collapsed": false
   },
   "outputs": [
    {
     "data": {
      "image/png": "[encoded data removed]",
      "text/plain": [
       "<matplotlib.figure.Figure at 0x11ad3ab90>"
      ]
     },
     "metadata": {},
     "output_type": "display_data"
    }
   ],
   "source": [
    "poi_plot = sns.lmplot('salary', 'bonus', data=df, hue='poi', fit_reg=False)\n",
    "sns.plt.show()"
   ]
  },
  {
   "cell_type": "markdown",
   "metadata": {},
   "source": [
    "### Section 2:  Feature Selection"
   ]
  },
  {
   "cell_type": "markdown",
   "metadata": {},
   "source": [
    "#### Questions addressed:\n",
    "#### Q2. What features did you end up using in your POI identifier, and what selection process did you use to pick them? Did you have to do any scaling? Why or why not? As part of the assignment, you should attempt to engineer your own feature that does not come ready-made in the dataset -- explain what feature you tried to make, and the rationale behind it.  In your feature selection step, if you used an algorithm like a decision tree, please also give the feature importances of the features that you use, and if you used an automated feature selection function like SelectKBest, please report the feature scores and reasons for your choice of parameter values. "
   ]
  },
  {
   "cell_type": "markdown",
   "metadata": {},
   "source": [
    "We already removed 7 features as we did not have enough data points on them or they did not add any information value:\n",
    "* deferral_payments            \n",
    "* restricted_stock_deferred    \n",
    "* loan_advances                \n",
    "* director_fees                \n",
    "* deferred_income              \n",
    "* long_term_incentive \n",
    "* email_address"
   ]
  },
  {
   "cell_type": "markdown",
   "metadata": {},
   "source": [
    "Next, I will try to redo some of the financial features since we have outliers that are skewing the data."
   ]
  },
  {
   "cell_type": "markdown",
   "metadata": {},
   "source": [
    "I will start by taking the square root and cube root of some features and seeing if it helps the distribution of the data"
   ]
  },
  {
   "cell_type": "code",
   "execution_count": 24,
   "metadata": {
    "collapsed": false
   },
   "outputs": [],
   "source": [
    "df['salary_sqrt'] = np.sqrt(df.salary)\n",
    "df['bonus_sqrt'] = np.sqrt(df.bonus)"
   ]
  },
  {
   "cell_type": "markdown",
   "metadata": {},
   "source": [
    "It looks like the distribution of the data is better now and so I will keep these features in."
   ]
  },
  {
   "cell_type": "code",
   "execution_count": 25,
   "metadata": {
    "collapsed": false
   },
   "outputs": [
    {
     "data": {
      "image/png": "[encoded data removed]",
      "text/plain": [
       "<matplotlib.figure.Figure at 0x11a6c3cd0>"
      ]
     },
     "metadata": {},
     "output_type": "display_data"
    }
   ],
   "source": [
    "sns.jointplot(x = 'salary_sqrt', y= 'bonus_sqrt', data = df, dropna = True)\n",
    "sns.plt.show()"
   ]
  },
  {
   "cell_type": "markdown",
   "metadata": {},
   "source": [
    "I created 2 new square root variables for total payments and total stock value as the distributions seem better"
   ]
  },
  {
   "cell_type": "code",
   "execution_count": 26,
   "metadata": {
    "collapsed": true
   },
   "outputs": [],
   "source": [
    "df['total_payments_sqrt'] = np.sqrt(df.total_payments)\n",
    "df['total_stock_value_sqrt'] = np.sqrt(df.total_stock_value)"
   ]
  },
  {
   "cell_type": "code",
   "execution_count": 27,
   "metadata": {
    "collapsed": false
   },
   "outputs": [
    {
     "data": {
      "image/png": "[encoded data removed]",
      "text/plain": [
       "<matplotlib.figure.Figure at 0x11a491c50>"
      ]
     },
     "metadata": {},
     "output_type": "display_data"
    }
   ],
   "source": [
    "sns.jointplot(x = 'total_payments_sqrt', y= 'total_stock_value_sqrt', data = df, dropna = True)\n",
    "sns.plt.show()"
   ]
  },
  {
   "cell_type": "markdown",
   "metadata": {},
   "source": [
    "I'll also create a ratio variable: salary to bonus ratio "
   ]
  },
  {
   "cell_type": "code",
   "execution_count": 28,
   "metadata": {
    "collapsed": false
   },
   "outputs": [],
   "source": [
    "df['salary_to_bonus_ratio'] = df.salary / df.bonus"
   ]
  },
  {
   "cell_type": "markdown",
   "metadata": {},
   "source": [
    "I also created some new variables using the email features"
   ]
  },
  {
   "cell_type": "markdown",
   "metadata": {},
   "source": [
    "First I want to see if any person has received or sent emails to/from a POI, disproportionate to other employees. I will use a ratio to see this"
   ]
  },
  {
   "cell_type": "code",
   "execution_count": 29,
   "metadata": {
    "collapsed": false
   },
   "outputs": [],
   "source": [
    "df['msgs_sent_to_poi_ratio'] = df.from_this_person_to_poi / df.to_messages"
   ]
  },
  {
   "cell_type": "code",
   "execution_count": 30,
   "metadata": {
    "collapsed": false
   },
   "outputs": [],
   "source": [
    "df['msgs_received_from_poi_ratio'] = df.from_poi_to_this_person / df.from_messages"
   ]
  },
  {
   "cell_type": "markdown",
   "metadata": {},
   "source": [
    "### Feature Scaling\n",
    "**Feature Scaling** is used for standardizing or normalizing the features in the dataset. The normalization process is important for the algorithms used to classify the data as it helps overcome any disparities due to the different units of the financial and email features being used.\n",
    "\n",
    "I used feature scaling to an extent by taking ratios for the salary to bonus and by taking ratios for some of the email features (msgs_sent_to_poi_ratio and msgs_received_from_poi_ratio). As seen later, these features did not ultimately prove to be useful in my final model however."
   ]
  },
  {
   "cell_type": "markdown",
   "metadata": {},
   "source": [
    "Next, I used the feature selection function of the decision tree algorithm to try and find the best features."
   ]
  },
  {
   "cell_type": "code",
   "execution_count": 87,
   "metadata": {
    "collapsed": false
   },
   "outputs": [],
   "source": [
    "# List of all features, and the poi label\n",
    "financial_features = ['salary', 'total_payments', 'bonus', 'total_stock_value', \n",
    "                      'expenses', 'exercised_stock_options', 'other', 'restricted_stock',\n",
    "                      'salary_to_bonus_ratio', 'total_payments_sqrt', 'total_stock_value_sqrt',\n",
    "                      'salary_sqrt', 'bonus_sqrt']\n",
    "\n",
    "email_features = ['to_messages', 'from_poi_to_this_person', 'from_messages', \n",
    "                  'from_this_person_to_poi', 'shared_receipt_with_poi', \n",
    "                  'msgs_sent_to_poi_ratio', 'msgs_received_from_poi_ratio']\n",
    "\n",
    "poi_label = ['poi']\n",
    "features_list = poi_label + financial_features + email_features"
   ]
  },
  {
   "cell_type": "code",
   "execution_count": 32,
   "metadata": {
    "collapsed": false
   },
   "outputs": [],
   "source": [
    "from sklearn.tree import DecisionTreeClassifier\n",
    "from sklearn import cross_validation\n",
    "from sklearn import preprocessing\n",
    "from sklearn.metrics import precision_score\n",
    "from sklearn.metrics import recall_score\n",
    "sys.path.append(\"../tools/\")\n",
    "from feature_format import featureFormat, targetFeatureSplit"
   ]
  },
  {
   "cell_type": "markdown",
   "metadata": {},
   "source": [
    "I'll convert my dataframe back into a dictionary"
   ]
  },
  {
   "cell_type": "code",
   "execution_count": 88,
   "metadata": {
    "collapsed": true
   },
   "outputs": [],
   "source": [
    "df = df.replace(np.nan, 'NaN')\n",
    "data_dict = df[features_list].to_dict(orient = 'index')"
   ]
  },
  {
   "cell_type": "markdown",
   "metadata": {},
   "source": [
    "Splitting into labels versus features"
   ]
  },
  {
   "cell_type": "code",
   "execution_count": 90,
   "metadata": {
    "collapsed": false
   },
   "outputs": [],
   "source": [
    "data_new = featureFormat(data_dict, features_list, sort_keys = True)\n",
    "labels, features = targetFeatureSplit(data_new)"
   ]
  },
  {
   "cell_type": "code",
   "execution_count": 91,
   "metadata": {
    "collapsed": false
   },
   "outputs": [],
   "source": [
    "features_train, features_test, labels_train, labels_test = cross_validation.train_test_split(features,\n",
    "                                                                                             labels, \n",
    "                                                                                             test_size=0.1, \n",
    "                                                                                             random_state=42)"
   ]
  },
  {
   "cell_type": "markdown",
   "metadata": {},
   "source": [
    "We have 21 features now: We had 21 originally, then we removed 7 and added in 7"
   ]
  },
  {
   "cell_type": "code",
   "execution_count": 92,
   "metadata": {
    "collapsed": false
   },
   "outputs": [
    {
     "data": {
      "text/plain": [
       "DecisionTreeClassifier(class_weight=None, criterion='gini', max_depth=None,\n",
       "            max_features=None, max_leaf_nodes=None, min_samples_leaf=1,\n",
       "            min_samples_split=2, min_weight_fraction_leaf=0.0,\n",
       "            presort=False, random_state=None, splitter='best')"
      ]
     },
     "execution_count": 92,
     "metadata": {},
     "output_type": "execute_result"
    }
   ],
   "source": [
    "clf = DecisionTreeClassifier()\n",
    "clf.fit(features_train,labels_train)"
   ]
  },
  {
   "cell_type": "code",
   "execution_count": 93,
   "metadata": {
    "collapsed": false
   },
   "outputs": [
    {
     "name": "stdout",
     "output_type": "stream",
     "text": [
      "accuracy 0.733333333333\n"
     ]
    }
   ],
   "source": [
    "score = clf.score(features_test,labels_test)\n",
    "pred= clf.predict(features_test)\n",
    "print 'accuracy', score"
   ]
  },
  {
   "cell_type": "markdown",
   "metadata": {},
   "source": [
    "By looking at feature importances, I can see what features to keep, especially out of the financial features since many of them are very closely correlated (being derived from one another).\n",
    "\n",
    "* The features total_stock_value_sqrt, salary_sqrt and bonus_sqrt have no added value so i will drop them\n",
    "* I will keep in the new email features for now (msgs sent to poi ratio, msgs received from poi ratio) even though they have a weight of 0, though I might drop them later"
   ]
  },
  {
   "cell_type": "code",
   "execution_count": 94,
   "metadata": {
    "collapsed": false
   },
   "outputs": [
    {
     "name": "stdout",
     "output_type": "stream",
     "text": [
      "salary  : 0.217432156349\n",
      "total_payments  : 0.133410045837\n",
      "bonus  : 0.132276727205\n",
      "total_stock_value  : 0.126644311571\n",
      "expenses  : 0.116307773109\n",
      "exercised_stock_options  : 0.0930660725829\n",
      "other  : 0.0609768907563\n",
      "restricted_stock  : 0.0602240896359\n",
      "salary_to_bonus_ratio  : 0.059661932955\n",
      "total_payments_sqrt  : 0.0\n",
      "total_stock_value_sqrt  : 0.0\n",
      "salary_sqrt  : 0.0\n",
      "bonus_sqrt  : 0.0\n",
      "to_messages  : 0.0\n",
      "from_poi_to_this_person  : 0.0\n",
      "from_messages  : 0.0\n",
      "from_this_person_to_poi  : 0.0\n",
      "shared_receipt_with_poi  : 0.0\n",
      "msgs_sent_to_poi_ratio  : 0.0\n",
      "msgs_received_from_poi_ratio  : 0.0\n"
     ]
    }
   ],
   "source": [
    "feature_weights = clf.feature_importances_\n",
    "pointer = np.argsort(feature_weights)[::-1]\n",
    "for i in range(20):\n",
    "    print features_list[i+1], \" :\", feature_weights[pointer[i]]"
   ]
  },
  {
   "cell_type": "markdown",
   "metadata": {},
   "source": [
    "Dropping the variables:"
   ]
  },
  {
   "cell_type": "code",
   "execution_count": 95,
   "metadata": {
    "collapsed": true
   },
   "outputs": [],
   "source": [
    "# List of features that are kept, and the poi label\n",
    "financial_features = ['salary', 'total_payments', 'bonus', 'total_stock_value', \n",
    "                      'expenses', 'exercised_stock_options', 'other', 'restricted_stock',\n",
    "                      'salary_to_bonus_ratio', 'total_payments_sqrt']\n",
    "\n",
    "email_features = ['shared_receipt_with_poi', 'msgs_sent_to_poi_ratio', 'msgs_received_from_poi_ratio']\n",
    "\n",
    "poi_label = ['poi']\n",
    "features_list = poi_label + financial_features + email_features\n",
    "\n",
    "data_dict = df[features_list].to_dict(orient = 'index')"
   ]
  },
  {
   "cell_type": "markdown",
   "metadata": {},
   "source": [
    "Checking performance of the classifier for this set of features: I can see that accuracy has improved. I will keep this set of variables and experiment more when trying out algorithms that classify the data best."
   ]
  },
  {
   "cell_type": "code",
   "execution_count": 97,
   "metadata": {
    "collapsed": false
   },
   "outputs": [
    {
     "name": "stdout",
     "output_type": "stream",
     "text": [
      "accuracy 0.866666666667\n"
     ]
    }
   ],
   "source": [
    "data_set = featureFormat(data_dict, features_list, sort_keys = True)\n",
    "labels, features = targetFeatureSplit(data_set)\n",
    "features_train, features_test, labels_train, labels_test = cross_validation.train_test_split(features,\n",
    "                                                                                             labels, \n",
    "                                                                                             test_size=0.1, \n",
    "                                                                                             random_state=42)\n",
    "clf = DecisionTreeClassifier()\n",
    "clf.fit(features_train,labels_train)\n",
    "score = clf.score(features_test,labels_test)\n",
    "pred= clf.predict(features_test)\n",
    "print 'accuracy', score\n"
   ]
  },
  {
   "cell_type": "markdown",
   "metadata": {},
   "source": [
    "### Section 3:  Algorithm Selection"
   ]
  },
  {
   "cell_type": "markdown",
   "metadata": {},
   "source": [
    "#### Questions addressed:\n",
    "#### Q3. What algorithm did you end up using? What other one(s) did you try? How did model performance differ between algorithms?"
   ]
  },
  {
   "cell_type": "markdown",
   "metadata": {},
   "source": [
    "I tried out 4 different algorithms as seen below. Initially, none of the algorithms except AdaBoost gave me both precision and recall > 0.3. AdaBoost was the only one that did, and I used the basic settings for it.\n",
    "\n",
    "In order to get a slightly higher precision and/or recall, I tweaked the features list a little more to try and coax a  higher precision and/or recall."
   ]
  },
  {
   "cell_type": "code",
   "execution_count": 41,
   "metadata": {
    "collapsed": true
   },
   "outputs": [],
   "source": [
    "from tester import dump_classifier_and_data, test_classifier"
   ]
  },
  {
   "cell_type": "markdown",
   "metadata": {},
   "source": [
    "##### Classifier 1: GaussianNB"
   ]
  },
  {
   "cell_type": "code",
   "execution_count": 52,
   "metadata": {
    "collapsed": false
   },
   "outputs": [
    {
     "name": "stdout",
     "output_type": "stream",
     "text": [
      "GaussianNB()\n",
      "\tAccuracy: 0.84400\tPrecision: 0.35810\tRecall: 0.21450\tF1: 0.26829\tF2: 0.23320\n",
      "\tTotal predictions: 15000\tTrue positives:  429\tFalse positives:  769\tFalse negatives: 1571\tTrue negatives: 12231\n",
      "\n"
     ]
    }
   ],
   "source": [
    "from sklearn.naive_bayes import GaussianNB\n",
    "\n",
    "gnbc_clf = GaussianNB()\n",
    "test_classifier(gnbc_clf, data_dict, features_list)"
   ]
  },
  {
   "cell_type": "markdown",
   "metadata": {},
   "source": [
    "##### Classifier 2: Random Forest Classifier"
   ]
  },
  {
   "cell_type": "code",
   "execution_count": 53,
   "metadata": {
    "collapsed": false
   },
   "outputs": [
    {
     "name": "stdout",
     "output_type": "stream",
     "text": [
      "RandomForestClassifier(bootstrap=True, class_weight=None, criterion='gini',\n",
      "            max_depth=None, max_features='auto', max_leaf_nodes=None,\n",
      "            min_samples_leaf=1, min_samples_split=2,\n",
      "            min_weight_fraction_leaf=0.0, n_estimators=50, n_jobs=1,\n",
      "            oob_score=False, random_state=202, verbose=0, warm_start=False)\n",
      "\tAccuracy: 0.86553\tPrecision: 0.48562\tRecall: 0.14350\tF1: 0.22154\tF2: 0.16704\n",
      "\tTotal predictions: 15000\tTrue positives:  287\tFalse positives:  304\tFalse negatives: 1713\tTrue negatives: 12696\n",
      "\n"
     ]
    }
   ],
   "source": [
    "from sklearn.ensemble import RandomForestClassifier\n",
    "\n",
    "rf_clf = RandomForestClassifier(n_estimators = 50, random_state = 202)\n",
    "test_classifier(rf_clf, data_dict, features_list)"
   ]
  },
  {
   "cell_type": "markdown",
   "metadata": {},
   "source": [
    "##### Classifier 3: kMeans"
   ]
  },
  {
   "cell_type": "code",
   "execution_count": 54,
   "metadata": {
    "collapsed": false
   },
   "outputs": [
    {
     "name": "stdout",
     "output_type": "stream",
     "text": [
      "KMeans(copy_x=True, init='k-means++', max_iter=300, n_clusters=2, n_init=10,\n",
      "    n_jobs=1, precompute_distances='auto', random_state=None, tol=0.0001,\n",
      "    verbose=0)\n",
      "\tAccuracy: 0.85240\tPrecision: 0.28854\tRecall: 0.07300\tF1: 0.11652\tF2: 0.08582\n",
      "\tTotal predictions: 15000\tTrue positives:  146\tFalse positives:  360\tFalse negatives: 1854\tTrue negatives: 12640\n",
      "\n"
     ]
    }
   ],
   "source": [
    "from sklearn.cluster import KMeans\n",
    "\n",
    "km_clf = KMeans(n_clusters=2)\n",
    "test_classifier(km_clf, data_dict, features_list)"
   ]
  },
  {
   "cell_type": "markdown",
   "metadata": {},
   "source": [
    "##### Classifier 4: AdaBoost"
   ]
  },
  {
   "cell_type": "code",
   "execution_count": 55,
   "metadata": {
    "collapsed": false
   },
   "outputs": [
    {
     "name": "stdout",
     "output_type": "stream",
     "text": [
      "AdaBoostClassifier(algorithm='SAMME.R', base_estimator=None,\n",
      "          learning_rate=1.0, n_estimators=60, random_state=202)\n",
      "\tAccuracy: 0.84220\tPrecision: 0.38423\tRecall: 0.30450\tF1: 0.33975\tF2: 0.31768\n",
      "\tTotal predictions: 15000\tTrue positives:  609\tFalse positives:  976\tFalse negatives: 1391\tTrue negatives: 12024\n",
      "\n"
     ]
    }
   ],
   "source": [
    "from sklearn.ensemble import AdaBoostClassifier\n",
    "\n",
    "ab_clf = AdaBoostClassifier(n_estimators = 60, random_state = 202)\n",
    "test_classifier(ab_clf, data_dict, features_list)"
   ]
  },
  {
   "cell_type": "markdown",
   "metadata": {},
   "source": [
    "#### Next Steps \n",
    "I decide to go with AdaBoost as it has the highest recall/precision (both above 0.3). Before embarking on any parameter tuning, I decide to try and reduce the feature set slightly to see if it affects the precision and/or recall.\n",
    "\n",
    "After playing around for a bit, I saw that this feature set with just 7 features increased the accuracy, precision and recall substantially."
   ]
  },
  {
   "cell_type": "code",
   "execution_count": 98,
   "metadata": {
    "collapsed": true
   },
   "outputs": [],
   "source": [
    "# List of all features, and the poi label\n",
    "financial_features = ['salary', 'total_payments', 'bonus', 'total_stock_value', \n",
    "                      'expenses', 'exercised_stock_options', 'salary_to_bonus_ratio']\n",
    "\n",
    "poi_label = ['poi']\n",
    "\n",
    "features_list = poi_label + financial_features"
   ]
  },
  {
   "cell_type": "code",
   "execution_count": 99,
   "metadata": {
    "collapsed": true
   },
   "outputs": [],
   "source": [
    "data_dict = df[features_list].to_dict(orient = 'index')"
   ]
  },
  {
   "cell_type": "code",
   "execution_count": 61,
   "metadata": {
    "collapsed": false
   },
   "outputs": [
    {
     "name": "stdout",
     "output_type": "stream",
     "text": [
      "AdaBoostClassifier(algorithm='SAMME.R', base_estimator=None,\n",
      "          learning_rate=1.0, n_estimators=60, random_state=202)\n",
      "\tAccuracy: 0.84933\tPrecision: 0.42188\tRecall: 0.35100\tF1: 0.38319\tF2: 0.36320\n",
      "\tTotal predictions: 15000\tTrue positives:  702\tFalse positives:  962\tFalse negatives: 1298\tTrue negatives: 12038\n",
      "\n"
     ]
    }
   ],
   "source": [
    "from sklearn.ensemble import AdaBoostClassifier\n",
    "\n",
    "ab_clf = AdaBoostClassifier(n_estimators = 60, random_state = 202)\n",
    "test_classifier(ab_clf, data_dict, features_list)"
   ]
  },
  {
   "cell_type": "markdown",
   "metadata": {},
   "source": [
    "#### Questions addressed:\n",
    "#### Q4. What does it mean to tune the parameters of an algorithm, and what can happen if you don’t do this well?  How did you tune the parameters of your particular algorithm? What parameters did you tune? "
   ]
  },
  {
   "cell_type": "markdown",
   "metadata": {},
   "source": [
    "In the AdaBoost algorithm, I can see that the precision or recall or both could potentially be improved by tuning the model's parameters. All or most ML models come with 'system default parameters' and these can be used as a starting point. However, if you want to achieve a specific result i.e. a high recall or a high precision or some other metric score, it may be necessary to change the default parameters in order to achieve the specific result(s) desired and also to extract the best possible performace from the model. In other words, changing the parameters can help to *optimize* the ML algorithm.\n",
    "\n",
    "If the parameters are not tuned well, it can result in a sub-optimal performance and not getting the best metrics and classification results.\n",
    "\n",
    "For AdaBoost, the tunable parameters are:\n",
    "* n_estimators: Number of estimators. Default is 50.\n",
    "* base_estimator: The default is DecisionTree.\n",
    "* learning_rate: Default value is 1.0. This shrinks the contribution of each classifier. There is a trade-off between learning_rate and n_estimators. \n",
    "* algorithm type: SAMME or SAMME.R.\n",
    "* random_state: Default value is set to np.random"
   ]
  },
  {
   "cell_type": "markdown",
   "metadata": {},
   "source": [
    "I decide to tune the parameters n_estimators and learning_rate using a function that will print the metrics for each tuned parameter set. I set the random_state = 202 as that random value gave me a fairly high precision and recall to start with. "
   ]
  },
  {
   "cell_type": "code",
   "execution_count": 67,
   "metadata": {
    "collapsed": true
   },
   "outputs": [],
   "source": [
    "def TuneAdaBoostParams(n_estimators, learning_rate, rs):\n",
    "    from sklearn.ensemble import AdaBoostClassifier\n",
    "    \n",
    "    for i in n_estimators:\n",
    "        for j in learning_rate:\n",
    "            print \"\\nn_estimators = \", i, \", learning_rate = \", j, \"\\n\"\n",
    "            ab_clf = AdaBoostClassifier(n_estimators = i, learning_rate = j, random_state = rs)\n",
    "            test_classifier(ab_clf, data_dict, features_list)"
   ]
  },
  {
   "cell_type": "code",
   "execution_count": 69,
   "metadata": {
    "collapsed": false
   },
   "outputs": [
    {
     "name": "stdout",
     "output_type": "stream",
     "text": [
      "\n",
      "n_estimators =  50 , learning_rate =  0.1 \n",
      "\n",
      "AdaBoostClassifier(algorithm='SAMME.R', base_estimator=None,\n",
      "          learning_rate=0.1, n_estimators=50, random_state=202)\n",
      "\tAccuracy: 0.85607\tPrecision: 0.37598\tRecall: 0.12050\tF1: 0.18251\tF2: 0.13945\n",
      "\tTotal predictions: 15000\tTrue positives:  241\tFalse positives:  400\tFalse negatives: 1759\tTrue negatives: 12600\n",
      "\n",
      "\n",
      "n_estimators =  50 , learning_rate =  0.3 \n",
      "\n",
      "AdaBoostClassifier(algorithm='SAMME.R', base_estimator=None,\n",
      "          learning_rate=0.3, n_estimators=50, random_state=202)\n",
      "\tAccuracy: 0.85327\tPrecision: 0.42275\tRecall: 0.27500\tF1: 0.33323\tF2: 0.29567\n",
      "\tTotal predictions: 15000\tTrue positives:  550\tFalse positives:  751\tFalse negatives: 1450\tTrue negatives: 12249\n",
      "\n",
      "\n",
      "n_estimators =  50 , learning_rate =  0.5 \n",
      "\n",
      "AdaBoostClassifier(algorithm='SAMME.R', base_estimator=None,\n",
      "          learning_rate=0.5, n_estimators=50, random_state=202)\n",
      "\tAccuracy: 0.85207\tPrecision: 0.42705\tRecall: 0.32050\tF1: 0.36618\tF2: 0.33733\n",
      "\tTotal predictions: 15000\tTrue positives:  641\tFalse positives:  860\tFalse negatives: 1359\tTrue negatives: 12140\n",
      "\n",
      "\n",
      "n_estimators =  50 , learning_rate =  0.7 \n",
      "\n",
      "AdaBoostClassifier(algorithm='SAMME.R', base_estimator=None,\n",
      "          learning_rate=0.7, n_estimators=50, random_state=202)\n",
      "\tAccuracy: 0.84913\tPrecision: 0.41928\tRecall: 0.34150\tF1: 0.37641\tF2: 0.35466\n",
      "\tTotal predictions: 15000\tTrue positives:  683\tFalse positives:  946\tFalse negatives: 1317\tTrue negatives: 12054\n",
      "\n",
      "\n",
      "n_estimators =  50 , learning_rate =  0.9 \n",
      "\n",
      "AdaBoostClassifier(algorithm='SAMME.R', base_estimator=None,\n",
      "          learning_rate=0.9, n_estimators=50, random_state=202)\n",
      "\tAccuracy: 0.84987\tPrecision: 0.42135\tRecall: 0.33750\tF1: 0.37479\tF2: 0.35149\n",
      "\tTotal predictions: 15000\tTrue positives:  675\tFalse positives:  927\tFalse negatives: 1325\tTrue negatives: 12073\n",
      "\n",
      "\n",
      "n_estimators =  60 , learning_rate =  0.1 \n",
      "\n",
      "AdaBoostClassifier(algorithm='SAMME.R', base_estimator=None,\n",
      "          learning_rate=0.1, n_estimators=60, random_state=202)\n",
      "\tAccuracy: 0.85540\tPrecision: 0.38014\tRecall: 0.13400\tF1: 0.19815\tF2: 0.15393\n",
      "\tTotal predictions: 15000\tTrue positives:  268\tFalse positives:  437\tFalse negatives: 1732\tTrue negatives: 12563\n",
      "\n",
      "\n",
      "n_estimators =  60 , learning_rate =  0.3 \n",
      "\n",
      "AdaBoostClassifier(algorithm='SAMME.R', base_estimator=None,\n",
      "          learning_rate=0.3, n_estimators=60, random_state=202)\n",
      "\tAccuracy: 0.85453\tPrecision: 0.43127\tRecall: 0.28550\tF1: 0.34356\tF2: 0.30620\n",
      "\tTotal predictions: 15000\tTrue positives:  571\tFalse positives:  753\tFalse negatives: 1429\tTrue negatives: 12247\n",
      "\n",
      "\n",
      "n_estimators =  60 , learning_rate =  0.5 \n",
      "\n",
      "AdaBoostClassifier(algorithm='SAMME.R', base_estimator=None,\n",
      "          learning_rate=0.5, n_estimators=60, random_state=202)\n",
      "\tAccuracy: 0.85127\tPrecision: 0.42553\tRecall: 0.33000\tF1: 0.37173\tF2: 0.34551\n",
      "\tTotal predictions: 15000\tTrue positives:  660\tFalse positives:  891\tFalse negatives: 1340\tTrue negatives: 12109\n",
      "\n",
      "\n",
      "n_estimators =  60 , learning_rate =  0.7 \n",
      "\n",
      "AdaBoostClassifier(algorithm='SAMME.R', base_estimator=None,\n",
      "          learning_rate=0.7, n_estimators=60, random_state=202)\n",
      "\tAccuracy: 0.84933\tPrecision: 0.42073\tRecall: 0.34500\tF1: 0.37912\tF2: 0.35788\n",
      "\tTotal predictions: 15000\tTrue positives:  690\tFalse positives:  950\tFalse negatives: 1310\tTrue negatives: 12050\n",
      "\n",
      "\n",
      "n_estimators =  60 , learning_rate =  0.9 \n",
      "\n",
      "AdaBoostClassifier(algorithm='SAMME.R', base_estimator=None,\n",
      "          learning_rate=0.9, n_estimators=60, random_state=202)\n",
      "\tAccuracy: 0.85107\tPrecision: 0.42742\tRecall: 0.34450\tF1: 0.38151\tF2: 0.35841\n",
      "\tTotal predictions: 15000\tTrue positives:  689\tFalse positives:  923\tFalse negatives: 1311\tTrue negatives: 12077\n",
      "\n"
     ]
    }
   ],
   "source": [
    "n_estimators_list = [50, 60]\n",
    "learning_rate_list = [0.1, 0.3, 0.5, 0.7, 0.9]\n",
    "TuneAdaBoostParams(n_estimators_list, learning_rate_list, 202)"
   ]
  },
  {
   "cell_type": "markdown",
   "metadata": {},
   "source": [
    "It looks like a learning_rate of between 0.7 and 1 and n_estimators of 60 yield the best performance. I manually set the learning_rate to 0.99 and run the model one last time to see that it yields the best performance."
   ]
  },
  {
   "cell_type": "code",
   "execution_count": 82,
   "metadata": {
    "collapsed": false
   },
   "outputs": [
    {
     "name": "stdout",
     "output_type": "stream",
     "text": [
      "AdaBoostClassifier(algorithm='SAMME.R', base_estimator=None,\n",
      "          learning_rate=0.99, n_estimators=60, random_state=202)\n",
      "\tAccuracy: 0.85053\tPrecision: 0.42649\tRecall: 0.35100\tF1: 0.38508\tF2: 0.36388\n",
      "\tTotal predictions: 15000\tTrue positives:  702\tFalse positives:  944\tFalse negatives: 1298\tTrue negatives: 12056\n",
      "\n"
     ]
    }
   ],
   "source": [
    "from sklearn.ensemble import AdaBoostClassifier\n",
    "\n",
    "ab_clf = AdaBoostClassifier(n_estimators = 60, learning_rate = 0.99, random_state = 202)\n",
    "test_classifier(ab_clf, data_dict, features_list)"
   ]
  },
  {
   "cell_type": "markdown",
   "metadata": {},
   "source": [
    "### Section 4:  Model Validation"
   ]
  },
  {
   "cell_type": "markdown",
   "metadata": {},
   "source": [
    "#### Questions addressed:\n",
    "#### Q5. What is validation, and what’s a classic mistake you can make if you do it wrong? How did you validate your analysis?  "
   ]
  },
  {
   "cell_type": "markdown",
   "metadata": {},
   "source": [
    "Validation involves checking the performance of the ML model by testing the model on data that was not previously used. We can validate models by breaking the initial dataset into 2 sections: one for training and the other for validating or testing the model. \n",
    "\n",
    "If we were to not use this step of breaking the data into 2 portions, and were to train our model using all the data and then test using only a small portion of the same data, the metrics will be much better than they will be with a new set of brand-new data. That is because the model 'knows' this dataset very well and hence can predict/classify based a subset of it very well. However, it is sure to perform poorly with a new dataset. \n",
    "\n",
    "This is called 'overfitting' the model and it means that the model will perform well with only one set of data i.e. the training data. In ordert o generalize the model, testing/validating it on a new data set is absolutely essential.\n",
    "\n",
    "Cross-validation: This is the process by which we can evaluate our algorithms by training the algorithms on subsets of the available dataset and then evaluating them on the complementary subset of the data. We use the stratified shuffle split cross-validation method as we have very little data samples and POIs to start with and want to extract the maximum information out of this data. This cross-validation method creates multiple train-test sets and helps us to evaluate the algorithms better with the limited data available.\n",
    "\n",
    "In order to validate my ML model, I used the validation function provided by Udacity in the tester.py script i.e the stratified shuffle split cross-validation method. "
   ]
  },
  {
   "cell_type": "markdown",
   "metadata": {},
   "source": [
    "#### Questions addressed:\n",
    "#### Q6. Give at least 2 evaluation metrics and your average performance for each of them.  Explain an interpretation of your metrics that says something human-understandable about your algorithm’s performance."
   ]
  },
  {
   "cell_type": "markdown",
   "metadata": {},
   "source": [
    "The main evaluation metrics I used were:\n",
    "* Accuracy\n",
    "* Precision\n",
    "* Recall\n",
    "\n",
    "Average performance for each of these on the 4 different ML models were:\n",
    "\n",
    "| **Algorithm**      | **Accuracy**  | **Precision**  | **Recall**|\n",
    "| :---------------:  |:----------:   |:----------:    |:---------:|\n",
    "| GaussianNB         | 0.84400       | 0.35810        | 0.21450   |\n",
    "| RandomForest       | 0.86553       | 0.48562        | 0.14350   |\n",
    "| kMeans             | 0.85240       | 0.28854        | 0.07300   |\n",
    "| AdaBoost           | 0.85053\t     | 0.42649        | 0.35100   |\n",
    "\n",
    "\n",
    "What do these metrics mean?\n",
    "\n",
    "* **Accuracy**: This metric tells you how many times the model got its prediction right. The AdaBoost model's accuracy is 0.85 or 85% which means that it got its predictions/classifications right for identifying an Enron employee as a person of interest 85% of the time.\n",
    "\n",
    "\n",
    "* **Precision**: Precision is a better measure of classifier performance than accuracy. A precision of 43% means that out of the cases that the AdaBoost classifier identifed as POI, 43% really were POIs. Accuracy paints a rosier picture than is actually true and is not actually a very good indicator of classifier performance.\n",
    "\n",
    "\n",
    "\n",
    "* **Recall**: Recall is a metric that helps us determine the coverage of the classifier. A recall of 35% means that of all of the POIs actually there in the data, the AdaBoost classifier was able to identify 35% of them.\n"
   ]
  }
 ],
 "metadata": {
  "anaconda-cloud": {},
  "kernelspec": {
   "display_name": "Python [Root]",
   "language": "python",
   "name": "Python [Root]"
  },
  "language_info": {
   "codemirror_mode": {
    "name": "ipython",
    "version": 2
   },
   "file_extension": ".py",
   "mimetype": "text/x-python",
   "name": "python",
   "nbconvert_exporter": "python",
   "pygments_lexer": "ipython2",
   "version": "2.7.12"
  }
 },
 "nbformat": 4,
 "nbformat_minor": 0
}
